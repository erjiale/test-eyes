{
  "nbformat": 4,
  "nbformat_minor": 0,
  "metadata": {
    "colab": {
      "name": "test-eyes.ipynb",
      "provenance": [],
      "collapsed_sections": []
    },
    "kernelspec": {
      "name": "python3",
      "display_name": "Python 3"
    }
  },
  "cells": [
    {
      "cell_type": "code",
      "metadata": {
        "id": "Z6QGkNQzyYF6"
      },
      "source": [
        "import numpy as np\n",
        "import tensorflow as tf\n",
        "from sklearn.model_selection import train_test_split\n",
        "import cv2\n",
        "import matplotlib.pyplot as plt\n",
        "import pickle\n",
        "import glob\n",
        "import os"
      ],
      "execution_count": 1,
      "outputs": []
    },
    {
      "cell_type": "code",
      "metadata": {
        "id": "IbyB0uOJ2gy0"
      },
      "source": [
        "def load_images(dir_path):\n",
        "  X, y = [], []\n",
        "  category_counter = 0\n",
        "  count = 1\n",
        "  for filename in os.listdir(dir_path):\n",
        "    image_paths = glob.glob(dir_path+filename + '/*.jpg')\n",
        "    for image in image_paths:\n",
        "      print(count)\n",
        "      img = cv2.imread(image, cv2.IMREAD_GRAYSCALE)\n",
        "      img = cv2.resize(img, (64,64))\n",
        "      X.append(img)\n",
        "      y.append(category_counter)\n",
        "      count += 1\n",
        "    category_counter += 1\n",
        "  \n",
        "  return X, y\n",
        "\n",
        "def save_to_pickle(input, outfilename):\n",
        "  pickleout = open(outfilename,\"wb\")\n",
        "  pickle.dump(input, pickleout)\n",
        "  pickleout.close()\n",
        "\n",
        "def read_pickle(input):\n",
        "  picklein = open(input,\"rb\")\n",
        "  return pickle.load(picklein)"
      ],
      "execution_count": 6,
      "outputs": []
    },
    {
      "cell_type": "code",
      "metadata": {
        "id": "fQw-m-Dezdn1"
      },
      "source": [
        "# ...\n",
        "X, y = load_images(\"/content/drive/MyDrive/hotdog-nothotdog/train/\")\n",
        "# img = cv2.imread(\"/content/drive/MyDrive/hotdog-nothotdog/train/hotdog/1.jpg\", cv2.IMREAD_GRAYSCALE)\n",
        "# plt.imshow(img,'gray')\n",
        "print(len(X), len(y))"
      ],
      "execution_count": null,
      "outputs": []
    },
    {
      "cell_type": "code",
      "metadata": {
        "id": "yVAJRe7aAuXk"
      },
      "source": [
        "save_to_pickle(X, \"/content/drive/MyDrive/X.pickle\")\n",
        "save_to_pickle(y, \"/content/drive/MyDrive/y.pickle\")\n",
        "fileX = read_pickle(\"/content/drive/MyDrive/X.pickle\")\n",
        "fileY = read_pickle(\"/content/drive/MyDrive/y.pickle\")"
      ],
      "execution_count": null,
      "outputs": []
    },
    {
      "cell_type": "code",
      "metadata": {
        "id": "SNWmKrTHAuRn"
      },
      "source": [
        ""
      ],
      "execution_count": 13,
      "outputs": []
    },
    {
      "cell_type": "code",
      "metadata": {
        "id": "W28jnHZvAtr4"
      },
      "source": [
        ""
      ],
      "execution_count": null,
      "outputs": []
    },
    {
      "cell_type": "code",
      "metadata": {
        "colab": {
          "base_uri": "https://localhost:8080/"
        },
        "id": "cm3zMDKj25fr",
        "outputId": "7d27877b-a226-4c6a-ac7c-5172750409b4"
      },
      "source": [
        "from google.colab import drive\n",
        "drive.mount('/content/drive')"
      ],
      "execution_count": 1,
      "outputs": [
        {
          "output_type": "stream",
          "text": [
            "Mounted at /content/drive\n"
          ],
          "name": "stdout"
        }
      ]
    }
  ]
}